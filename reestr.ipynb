{
 "cells": [
  {
   "cell_type": "code",
   "execution_count": 1,
   "metadata": {},
   "outputs": [],
   "source": [
    "import pandas as pd\n",
    "import json\n",
    "import os"
   ]
  },
  {
   "cell_type": "code",
   "execution_count": 2,
   "metadata": {},
   "outputs": [],
   "source": [
    "# Загрузите данные CSV в DataFrame\n",
    "csv_file = 'data.csv'  # Замените на путь к вашему CSV файлу\n",
    "df = pd.read_csv(csv_file, delimiter='\\t')"
   ]
  },
  {
   "cell_type": "code",
   "execution_count": 3,
   "metadata": {},
   "outputs": [],
   "source": [
    "# Функция для создания JSON объектов\n",
    "def create_json_records(row):\n",
    "    record = {\n",
    "        \"serviceId\": row['service_id'],\n",
    "        \"requestId\": row['request_id'],\n",
    "        \"requestType\": row['request_type'],\n",
    "        \"updateTimestamp\": row['update_timestamp'],\n",
    "        \"responseContent\": {\n",
    "            \"serviceStatus\": \"4\",  # Предполагаемое значение для всех записей\n",
    "            \"attachments\": [\n",
    "                {\n",
    "                    \"path\": row['attachment_path']\n",
    "                }\n",
    "            ]\n",
    "        }\n",
    "    }\n",
    "    return record\n"
   ]
  },
  {
   "cell_type": "code",
   "execution_count": 4,
   "metadata": {},
   "outputs": [],
   "source": [
    "# Создание выходной директории\n",
    "output_dir = 'json_output'\n",
    "attachment_dir = 'attachment_paths'\n",
    "os.makedirs(output_dir, exist_ok=True)\n",
    "os.makedirs(attachment_dir, exist_ok=True)"
   ]
  },
  {
   "cell_type": "code",
   "execution_count": 5,
   "metadata": {},
   "outputs": [],
   "source": [
    "# Сохранение изначальных путей\n",
    "initial_paths_file = 'initial_paths.txt'\n",
    "with open(initial_paths_file, 'w', encoding='utf-8') as f:\n",
    "    for index, row in df.iterrows():\n",
    "        f.write(f\"{row['request_id']}: {row['attachment_path']}\\n\")"
   ]
  },
  {
   "cell_type": "code",
   "execution_count": 6,
   "metadata": {},
   "outputs": [
    {
     "name": "stdout",
     "output_type": "stream",
     "text": [
      "JSON и файлы путей успешно созданы.\n"
     ]
    }
   ],
   "source": [
    "# Обработка каждой строки DataFrame и создание JSON файлов\n",
    "for index, row in df.iterrows():\n",
    "    json_record = create_json_records(row)\n",
    "    \n",
    "    # Сохранение JSON файла\n",
    "    json_filename = os.path.join(output_dir, f\"{row['request_id']}.json\")\n",
    "    with open(json_filename, 'w', encoding='utf-8') as json_file:\n",
    "        json.dump(json_record, json_file, ensure_ascii=False, indent=4)\n",
    "    \n",
    "    # Сохранение пути вложения в отдельный файл\n",
    "    attachment_filename = os.path.join(attachment_dir, f\"{row['request_id']}_attachment_path.txt\")\n",
    "    with open(attachment_filename, 'w', encoding='utf-8') as attachment_file:\n",
    "        attachment_file.write(row['attachment_path'])\n",
    "\n",
    "print(\"JSON и файлы путей успешно созданы.\")"
   ]
  },
  {
   "cell_type": "code",
   "execution_count": 7,
   "metadata": {},
   "outputs": [],
   "source": [
    "# Пример списка новых путей (замените этим на реальный список новых путей)\n",
    "new_paths = {\n",
    "    '2be55378-7580-497c-9e9a-0334cf698e0c': '/новый/путь/к/вложению1.zip',\n",
    "    '79f6cda2-6016-4e24-a2b1-e1490377ec90': '/новый/путь/к/вложению2.zip',\n",
    "    '64bd0264-6ea3-4451-be11-77fbb9fb5d46': '/новый/путь/к/вложению3.zip',\n",
    "    'd988900b-87e6-42cc-8a07-4ee90b66ee69': '/новый/путь/к/вложению4.zip',\n",
    "    # добавьте все нужные пути\n",
    "}\n"
   ]
  },
  {
   "cell_type": "code",
   "execution_count": 8,
   "metadata": {},
   "outputs": [
    {
     "name": "stdout",
     "output_type": "stream",
     "text": [
      "JSON файл для 2be55378-7580-497c-9e9a-0334cf698e0c обновлен с новым путем.\n",
      "JSON файл для 79f6cda2-6016-4e24-a2b1-e1490377ec90 обновлен с новым путем.\n",
      "JSON файл для 64bd0264-6ea3-4451-be11-77fbb9fb5d46 обновлен с новым путем.\n",
      "JSON файл для d988900b-87e6-42cc-8a07-4ee90b66ee69 обновлен с новым путем.\n"
     ]
    }
   ],
   "source": [
    "# Функция для обновления JSON файлов с новыми путями\n",
    "def update_json_files():\n",
    "    for request_id, new_path in new_paths.items():\n",
    "        json_filepath = os.path.join(output_dir, f\"{request_id}.json\")\n",
    "        if os.path.exists(json_filepath):\n",
    "            with open(json_filepath, 'r', encoding='utf-8') as file:\n",
    "                data = json.load(file)\n",
    "            \n",
    "            # Обновляем путь во вложении\n",
    "            data['responseContent']['attachments'][0]['path'] = new_path\n",
    "            \n",
    "            # Сохраняем обновленный JSON файл\n",
    "            with open(json_filepath, 'w', encoding='utf-8') as file:\n",
    "                json.dump(data, file, ensure_ascii=False, indent=4)\n",
    "            \n",
    "            print(f\"JSON файл для {request_id} обновлен с новым путем.\")\n",
    "        else:\n",
    "            print(f\"JSON файл для {request_id} не найден.\")\n",
    "\n",
    "update_json_files()"
   ]
  }
 ],
 "metadata": {
  "kernelspec": {
   "display_name": "Python 3",
   "language": "python",
   "name": "python3"
  },
  "language_info": {
   "codemirror_mode": {
    "name": "ipython",
    "version": 3
   },
   "file_extension": ".py",
   "mimetype": "text/x-python",
   "name": "python",
   "nbconvert_exporter": "python",
   "pygments_lexer": "ipython3",
   "version": "3.11.1"
  }
 },
 "nbformat": 4,
 "nbformat_minor": 2
}
