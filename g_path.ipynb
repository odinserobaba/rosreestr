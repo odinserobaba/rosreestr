{
 "cells": [
  {
   "cell_type": "code",
   "execution_count": null,
   "metadata": {},
   "outputs": [],
   "source": [
    "import pandas as pd\n",
    "import json\n",
    "import os"
   ]
  },
  {
   "cell_type": "code",
   "execution_count": null,
   "metadata": {},
   "outputs": [
    {
     "name": "stdout",
     "output_type": "stream",
     "text": [
      "Команда: ls -l\n",
      "Вывод stdout:\n",
      "total 40\n",
      "drwxr-xr-x 3 nuanred nuanred 4096 May 19 20:07 Desktop\n",
      "drwxr-xr-x 3 nuanred nuanred 4096 May 10 14:46 Documents\n",
      "drwxr-xr-x 2 nuanred nuanred 4096 May 10 14:43 Downloads\n",
      "drwxr-xr-x 2 nuanred nuanred 4096 May 10 00:30 Music\n",
      "drwxrwxr-x 3 nuanred nuanred 4096 May 19 20:16 myproject\n",
      "drwxr-xr-x 2 nuanred nuanred 4096 May 10 00:30 Pictures\n",
      "drwxr-xr-x 2 nuanred nuanred 4096 May 10 00:30 Public\n",
      "drwx------ 7 nuanred nuanred 4096 May 10 11:30 snap\n",
      "drwxr-xr-x 2 nuanred nuanred 4096 May 10 00:30 Templates\n",
      "drwxr-xr-x 3 nuanred nuanred 4096 May 10 14:43 Videos\n",
      "\n",
      "Вывод stderr:\n",
      "\n",
      "Команда: whoami\n",
      "Вывод stdout:\n",
      "nuanred\n",
      "\n",
      "Вывод stderr:\n",
      "\n",
      "Команда: uname -a\n",
      "Вывод stdout:\n",
      "Linux nuanred-X75VC 6.8.0-31-generic #31-Ubuntu SMP PREEMPT_DYNAMIC Sat Apr 20 00:40:06 UTC 2024 x86_64 x86_64 x86_64 GNU/Linux\n",
      "\n",
      "Вывод stderr:\n",
      "\n"
     ]
    },
    {
     "ename": "",
     "evalue": "",
     "output_type": "error",
     "traceback": [
      "\u001b[1;31mThe Kernel crashed while executing code in the current cell or a previous cell. \n",
      "\u001b[1;31mPlease review the code in the cell(s) to identify a possible cause of the failure. \n",
      "\u001b[1;31mClick <a href='https://aka.ms/vscodeJupyterKernelCrash'>here</a> for more info. \n",
      "\u001b[1;31mView Jupyter <a href='command:jupyter.viewOutput'>log</a> for further details."
     ]
    }
   ],
   "source": [
    "import paramiko\n",
    "\n",
    "def execute_ssh_commands(hostname, username, password, commands):\n",
    "    try:\n",
    "        # Создаем SSH клиент\n",
    "        ssh_client = paramiko.SSHClient()\n",
    "        # Загружаем системные SSH ключи\n",
    "        ssh_client.load_system_host_keys()\n",
    "        # Добавляем ключ хоста, если он не найден в known_hosts\n",
    "        ssh_client.set_missing_host_key_policy(paramiko.AutoAddPolicy())\n",
    "\n",
    "        # Подключаемся к серверу\n",
    "        ssh_client.connect(hostname, username=username, password=password)\n",
    "\n",
    "        results = {}\n",
    "        for command in commands:\n",
    "            stdin, stdout, stderr = ssh_client.exec_command(command)\n",
    "            results[command] = {\n",
    "                'stdout': stdout.read().decode(),\n",
    "                'stderr': stderr.read().decode()\n",
    "            }\n",
    "\n",
    "        # Закрываем соединение\n",
    "        ssh_client.close()\n",
    "\n",
    "        return results\n",
    "\n",
    "    except Exception as e:\n",
    "        print(f\"Произошла ошибка: {e}\")\n",
    "        return None\n",
    "\n",
    "if __name__ == \"__main__\":\n",
    "    hostname = \"192.168.0.131\"  # Имя хоста или IP-адрес\n",
    "    username = \"nuanred\"\n",
    "    # key_filename = \"/путь/к/вашему/ключу/id_rsa\"  # Путь к вашему SSH ключу\n",
    "    password = 'nuclear123F'\n",
    "    # Список команд для выполнения на удаленном сервере\n",
    "    commands = [\n",
    "        \"ls -l\",\n",
    "        \"whoami\",\n",
    "        \"uname -a\"\n",
    "    ]\n",
    "\n",
    "    results = execute_ssh_commands(hostname, username, password, commands)\n",
    "\n",
    "    if results:\n",
    "        for command, result in results.items():\n",
    "            print(f\"Команда: {command}\")\n",
    "            print(f\"Вывод stdout:\\n{result['stdout']}\")\n",
    "            print(f\"Вывод stderr:\\n{result['stderr']}\")\n"
   ]
  },
  {
   "cell_type": "code",
   "execution_count": null,
   "metadata": {},
   "outputs": [
    {
     "data": {
      "application/vnd.jupyter.widget-view+json": {
       "model_id": "c7bf82e7323c4bcabe593d3450a5b7d7",
       "version_major": 2,
       "version_minor": 0
      },
      "text/plain": [
       "Button(description='Click Me', style=ButtonStyle())"
      ]
     },
     "metadata": {},
     "output_type": "display_data"
    }
   ],
   "source": [
    "widgets.IntProgress(\n",
    "    value=7,\n",
    "    min=0,\n",
    "    max=10,\n",
    "    description='Loading:',\n",
    "    bar_style='', # 'success', 'info', 'warning', 'danger' or ''\n",
    "    style={'bar_color': 'maroon'},\n",
    "    orientation='horizontal'\n",
    ")"
   ]
  },
  {
   "cell_type": "code",
   "execution_count": null,
   "metadata": {},
   "outputs": [],
   "source": []
  }
 ],
 "metadata": {
  "kernelspec": {
   "display_name": "Python 3",
   "language": "python",
   "name": "python3"
  },
  "language_info": {
   "codemirror_mode": {
    "name": "ipython",
    "version": 3
   },
   "file_extension": ".py",
   "mimetype": "text/x-python",
   "name": "python",
   "nbconvert_exporter": "python",
   "pygments_lexer": "ipython3",
   "version": "3.11.1"
  }
 },
 "nbformat": 4,
 "nbformat_minor": 2
}
